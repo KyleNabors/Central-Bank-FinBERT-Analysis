{
 "cells": [
  {
   "cell_type": "code",
   "execution_count": 1,
   "metadata": {},
   "outputs": [
    {
     "ename": "ModuleNotFoundError",
     "evalue": "No module named 'pandas'",
     "output_type": "error",
     "traceback": [
      "\u001b[0;31m---------------------------------------------------------------------------\u001b[0m",
      "\u001b[0;31mModuleNotFoundError\u001b[0m                       Traceback (most recent call last)",
      "Cell \u001b[0;32mIn[1], line 3\u001b[0m\n\u001b[1;32m      1\u001b[0m \u001b[38;5;28;01mimport\u001b[39;00m \u001b[38;5;21;01mos\u001b[39;00m\n\u001b[1;32m      2\u001b[0m \u001b[38;5;28;01mimport\u001b[39;00m \u001b[38;5;21;01msys\u001b[39;00m\n\u001b[0;32m----> 3\u001b[0m \u001b[38;5;28;01mimport\u001b[39;00m \u001b[38;5;21;01mpandas\u001b[39;00m \u001b[38;5;28;01mas\u001b[39;00m \u001b[38;5;21;01mpd\u001b[39;00m\n\u001b[1;32m      4\u001b[0m \u001b[38;5;28;01mimport\u001b[39;00m \u001b[38;5;21;01mnumpy\u001b[39;00m \u001b[38;5;28;01mas\u001b[39;00m \u001b[38;5;21;01mnp\u001b[39;00m\n\u001b[1;32m      5\u001b[0m \u001b[38;5;28;01mimport\u001b[39;00m \u001b[38;5;21;01mstatsmodels\u001b[39;00m\u001b[38;5;21;01m.\u001b[39;00m\u001b[38;5;21;01mapi\u001b[39;00m \u001b[38;5;28;01mas\u001b[39;00m \u001b[38;5;21;01msm\u001b[39;00m\n",
      "\u001b[0;31mModuleNotFoundError\u001b[0m: No module named 'pandas'"
     ]
    }
   ],
   "source": [
    "import os\n",
    "import sys\n",
    "import pandas as pd\n",
    "import numpy as np\n",
    "import statsmodels.api as sm\n",
    "import matplotlib.pyplot as plt"
   ]
  },
  {
   "cell_type": "code",
   "execution_count": null,
   "metadata": {},
   "outputs": [],
   "source": [
    "cwd = os.getcwd()\n",
    "# Find and import config file\n",
    "config_path = os.getcwd()\n",
    "\n",
    "sys.path.append(config_path)\n",
    "import config"
   ]
  },
  {
   "cell_type": "code",
   "execution_count": null,
   "metadata": {},
   "outputs": [],
   "source": [
    "database = config.database\n",
    "central_banks = config.central_banks\n",
    "training_data = os.path.join(database, \"Training Data\")\n",
    "fed_docs = config.fed_docs\n",
    "ecb_docs = config.ecb_docs"
   ]
  },
  {
   "cell_type": "code",
   "execution_count": null,
   "metadata": {},
   "outputs": [],
   "source": [
    "url_map = pd.read_csv(os.path.join(cwd, \"url_map.csv\"))\n",
    "\n",
    "for i in range(len(url_map)):\n",
    "    if url_map[\"central bank\"][i] == \"fed\" and url_map[\"document\"][i] == \"minutes\":\n",
    "        minutes = pd.read_csv(url_map[\"finbert_url\"][i])"
   ]
  },
  {
   "cell_type": "code",
   "execution_count": null,
   "metadata": {},
   "outputs": [],
   "source": [
    "sp500 = pd.read_csv(\n",
    "    \"/Users/kylenabors/Documents/Database/Market Data/SP500/SP500 Returns Daily.csv\"\n",
    ")\n",
    "\n",
    "sp500 = sp500.rename(columns={\"caldt\": \"date\", \"vwretd\": \"sp500_return\"})\n",
    "sp500[\"date\"] = pd.to_datetime(sp500[\"date\"])\n",
    "\n",
    "us_interest = pd.read_csv(\n",
    "    \"/Users/kylenabors/Documents/Database/Market Data/Fed Funds/Fed Funds.csv\"\n",
    ")\n",
    "us_interest[\"date\"] = pd.to_datetime(us_interest[\"date\"])"
   ]
  },
  {
   "cell_type": "code",
   "execution_count": null,
   "metadata": {},
   "outputs": [],
   "source": [
    "sp500 = sp500.rename(columns={\"caldt\": \"date\", \"vwretd\": \"sp500_return\"})\n",
    "sp500[\"date\"] = pd.to_datetime(sp500[\"date\"])\n",
    "minutes = minutes[[\"date\", \"sentiment\"]]\n",
    "minutes = minutes.rename(columns={\"sentiment\": \"minute_sentiment\"})\n",
    "minutes[\"date\"] = pd.to_datetime(minutes[\"date\"])\n",
    "minutes2 = minutes.copy(deep=True)\n",
    "minutes = minutes.groupby(\"date\").mean().reset_index()\n",
    "\n",
    "filter_df = minutes.copy(deep=True)\n",
    "filter_df = filter_df[[\"date\", \"minute_sentiment\"]]\n",
    "\n",
    "cycle, trend = sm.tsa.filters.hpfilter(\n",
    "    filter_df[\"minute_sentiment\"], 1600 * ((8 / 4) ** 4)\n",
    ")\n",
    "\n",
    "filter_df[\"minute_sentiment_cycle\"] = cycle\n",
    "filter_df[\"minute_sentiment_trend\"] = trend\n",
    "\n",
    "filter_df = filter_df[[\"date\", \"minute_sentiment_cycle\"]]\n",
    "minutes = minutes.drop(columns=[\"minute_sentiment\"])\n",
    "filter_df = filter_df.rename(columns={\"minute_sentiment_cycle\": \"minute_sentiment\"})\n",
    "minutes = pd.merge(minutes, filter_df, on=\"date\", how=\"left\")\n",
    "minutes = minutes.groupby(\"date\").mean().reset_index()\n",
    "\n",
    "event = range(len(minutes))\n",
    "minutes[\"event\"] = event\n",
    "minutes = pd.merge(minutes, sp500, how=\"outer\", on=\"date\")\n",
    "minutes = pd.merge(minutes, us_interest, how=\"outer\", on=\"date\")\n",
    "\n",
    "temp = minutes.copy(deep=True)\n",
    "temp = temp[[\"event\", \"sp500_return\"]]\n",
    "temp[\"log_returns\"] = np.log(temp[\"sp500_return\"] + 1)\n",
    "temp = temp[[\"event\", \"log_returns\"]]\n",
    "temp = temp.groupby(\"event\").sum().reset_index()\n",
    "minutes = minutes.groupby(minutes[\"event\"]).mean().reset_index()\n",
    "\n",
    "minutes = pd.merge(minutes, temp, how=\"left\", left_on=\"event\", right_on=\"event\")\n",
    "\n",
    "\n",
    "minutes2[\"dup_number\"] = minutes2.groupby([\"date\"]).cumcount() + 1\n",
    "pivot = pd.pivot_table(\n",
    "    minutes2,\n",
    "    index=\"dup_number\",\n",
    "    columns=\"date\",\n",
    "    values=\"minute_sentiment\",\n",
    "    fill_value=None,\n",
    ")\n",
    "\n",
    "window = 10\n",
    "pivot = pivot.iloc[:100]\n",
    "\n",
    "\n",
    "pivot[\"mean\"] = pivot.mean(axis=1)\n",
    "pivot[\"var\"] = pivot.var(axis=1)\n",
    "pivot[\"sd\"] = pivot[\"var\"] ** 0.5\n",
    "pivot[\"ci\"] = 1.96 * np.sqrt(pivot[\"sd\"] / len(pivot[\"sd\"]))\n",
    "\n",
    "pivot[\"rmean\"] = pivot[\"mean\"].rolling(window).mean()\n",
    "pivot[\"rvar\"] = pivot[\"mean\"].rolling(window).var()\n",
    "pivot[\"rsd\"] = pivot[\"rvar\"] ** 0.5\n",
    "# pivot[\"ci\"] = 1.96 * np.sqrt(pivot[\"rsd\"] / len(pivot[\"rsd\"]))\n",
    "\n",
    "\n",
    "pivot[\"count\"] = pivot.count(axis=1, numeric_only=True)\n",
    "\n",
    "# fig, axs = plt.subplots(2, 1, figsize=(20, 10))\n",
    "# axs[0].plot(pivot[\"mean\"], color=\"blue\", label=\"mean\")\n",
    "# axs[0].fill_between(\n",
    "#     pivot.index,\n",
    "#     pivot[\"mean\"] - pivot[\"ci\"],\n",
    "#     pivot[\"mean\"] + pivot[\"ci\"],\n",
    "#     color=\"b\",\n",
    "#     alpha=0.1,\n",
    "# )\n",
    "# axs[1].plot(pivot[\"count\"], color=\"red\", label=\"standard deviation\")\n",
    "\n",
    "# axs[0].set_title(f\"Mean Tone By Line Number: {window} line window\", fontsize=40)\n",
    "# axs[1].set_title(\n",
    "#     f\"Standard Deviation of Tone By Line Number: {window} line window\", fontsize=40\n",
    "# )\n",
    "# plt.show()\n",
    "\n",
    "pivot.to_csv(\"/Users/kylenabors/Downloads/pivot.csv\")"
   ]
  },
  {
   "cell_type": "code",
   "execution_count": null,
   "metadata": {},
   "outputs": [
    {
     "name": "stdout",
     "output_type": "stream",
     "text": [
      "    event       date  minute_sentiment  sp500_return  fedfunds  log_returns\n",
      "16   16.0 2000-02-03          0.121391      0.012133      5.71     0.012060\n",
      "17   17.0 2000-03-23          0.122481      0.018145      6.04     0.017982\n",
      "18   18.0 2000-05-18          0.146237     -0.007502      6.49    -0.007530\n",
      "19   19.0 2000-06-29          0.152421     -0.008714      6.76    -0.008752\n",
      "20   20.0 2000-08-24         -0.077930      0.001704      6.56     0.001703\n"
     ]
    }
   ],
   "source": [
    "minutes = minutes[minutes[\"date\"].dt.year >= 2000]\n",
    "print(minutes.head())"
   ]
  },
  {
   "cell_type": "code",
   "execution_count": null,
   "metadata": {},
   "outputs": [],
   "source": [
    "from dash import Dash, html, dcc\n",
    "import dash_bootstrap_components as dbc"
   ]
  }
 ],
 "metadata": {
  "kernelspec": {
   "display_name": "Python 3",
   "language": "python",
   "name": "python3"
  },
  "language_info": {
   "codemirror_mode": {
    "name": "ipython",
    "version": 3
   },
   "file_extension": ".py",
   "mimetype": "text/x-python",
   "name": "python",
   "nbconvert_exporter": "python",
   "pygments_lexer": "ipython3",
   "version": "3.11.6"
  }
 },
 "nbformat": 4,
 "nbformat_minor": 2
}
